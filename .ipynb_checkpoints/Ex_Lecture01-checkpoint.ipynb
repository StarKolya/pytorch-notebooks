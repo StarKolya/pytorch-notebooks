{
 "cells": [
  {
   "cell_type": "code",
   "execution_count": 33,
   "id": "2f3c77d2-c18d-432e-acd1-0acb0d192f89",
   "metadata": {},
   "outputs": [],
   "source": [
    "import torch\n",
    "from torch import nn\n",
    "import matplotlib.pyplot as plt \n",
    "\n",
    "\n",
    "device = \"mps\" if torch.backends.mps.is_available() else \"cpu\""
   ]
  },
  {
   "cell_type": "markdown",
   "id": "6bf4cefc-ca37-4dc6-8ac4-157679b929b1",
   "metadata": {},
   "source": [
    "#### Create artificial data "
   ]
  },
  {
   "cell_type": "code",
   "execution_count": 38,
   "id": "12edf05e-d99d-404f-b4ec-551645ca0cfe",
   "metadata": {},
   "outputs": [
    {
     "data": {
      "text/plain": [
       "(80, 80, 20, 20)"
      ]
     },
     "execution_count": 38,
     "metadata": {},
     "output_type": "execute_result"
    }
   ],
   "source": [
    "xVals = torch.arange(0,100,1, dtype=torch.float32).unsqueeze(dim=1).to(device)\n",
    "weight = 0.6\n",
    "bias = 0.2\n",
    "\n",
    "line = xVals * weight + bias \n",
    "\n",
    "# Training Set (80%)\n",
    "X_train, Y_train = xVals[:(int(len(xVals)*0.8))], line[:(int(len(xVals)*0.8))]\n",
    "\n",
    "# Test Set (20%)\n",
    "X_test, Y_test = xVals[(int(len(xVals)*0.8)):], line[(int(len(xVals)*0.8)):]\n",
    "\n",
    "\n",
    "len(X_train), len(Y_train), len(X_test), len(Y_test)\n"
   ]
  },
  {
   "cell_type": "markdown",
   "id": "c1fd813a-900e-4f68-a652-7c3d93214bf7",
   "metadata": {},
   "source": [
    "#### Create the model class"
   ]
  },
  {
   "cell_type": "code",
   "execution_count": 39,
   "id": "cf198b7a-56dc-4f8b-8aed-4687ff095cbe",
   "metadata": {},
   "outputs": [],
   "source": [
    "class LinearModel(nn.Module):\n",
    "    def __init__(self):\n",
    "        super().__init__()\n",
    "        self.linearLayer = nn.Linear(in_features=1, out_features=1)\n",
    "\n",
    "    def forward(self,x):\n",
    "        return self.linearLayer(x)\n"
   ]
  },
  {
   "cell_type": "markdown",
   "id": "94522f5e-06f6-403e-9f48-359dc7bf7826",
   "metadata": {},
   "source": [
    "#### Visualizing the set "
   ]
  },
  {
   "cell_type": "code",
   "execution_count": 46,
   "id": "ec01d77b-8ab6-4066-853a-e903a4d003d8",
   "metadata": {},
   "outputs": [
    {
     "data": {
      "text/plain": [
       "[<matplotlib.lines.Line2D at 0x10a650610>]"
      ]
     },
     "execution_count": 46,
     "metadata": {},
     "output_type": "execute_result"
    },
    {
     "data": {
      "image/png": "[encoded data removed]",
      "text/plain": [
       "<Figure size 640x480 with 1 Axes>"
      ]
     },
     "metadata": {},
     "output_type": "display_data"
    }
   ],
   "source": [
    "plt.plot(X_train.detach().cpu(), Y_train.detach().cpu())\n",
    "plt.plot(X_test.detach().cpu(), Y_test.detach().cpu())"
   ]
  },
  {
   "cell_type": "markdown",
   "id": "8f935d31-b429-4713-bf7c-87e810f33a52",
   "metadata": {},
   "source": [
    "#### Training the model"
   ]
  },
  {
   "cell_type": "code",
   "execution_count": 45,
   "id": "144bb42f-ebe5-40a7-a967-3a8cee1377fc",
   "metadata": {},
   "outputs": [
    {
     "name": "stdout",
     "output_type": "stream",
     "text": [
      "Total loss on a training set is:  48.44059371948242\n",
      "Total loss on a test set is:  107.1793212890625\n",
      "----------\n",
      "Total loss on a training set is:  0.4529727101325989\n",
      "Total loss on a test set is:  3.529275894165039\n",
      "----------\n",
      "Total loss on a training set is:  0.6396248936653137\n",
      "Total loss on a test set is:  3.0776193141937256\n",
      "----------\n",
      "Total loss on a training set is:  0.3653908669948578\n",
      "Total loss on a test set is:  2.9812095165252686\n",
      "----------\n",
      "Total loss on a training set is:  0.3136357367038727\n",
      "Total loss on a test set is:  1.024552583694458\n",
      "----------\n",
      "Total loss on a training set is:  0.6755191087722778\n",
      "Total loss on a test set is:  2.9142990112304688\n",
      "----------\n",
      "Total loss on a training set is:  0.5773481726646423\n",
      "Total loss on a test set is:  3.109964370727539\n",
      "----------\n",
      "Total loss on a training set is:  0.3160277307033539\n",
      "Total loss on a test set is:  2.6599979400634766\n",
      "----------\n",
      "Total loss on a training set is:  0.40301743149757385\n",
      "Total loss on a test set is:  3.454333543777466\n",
      "----------\n",
      "Total loss on a training set is:  0.4506600499153137\n",
      "Total loss on a test set is:  3.3217015266418457\n",
      "----------\n"
     ]
    }
   ],
   "source": [
    "model = LinearModel().to(device)\n",
    "\n",
    "lossFn = nn.L1Loss()\n",
    "optimFn = torch.optim.SGD(model.parameters(), lr=0.001)\n",
    "\n",
    "epochs = 1000\n",
    "\n",
    "for epoch in range(epochs):\n",
    "    # put in the training mode \n",
    "    model.train()\n",
    "\n",
    "    # predictions \n",
    "    pred = model(X_train)\n",
    "\n",
    "    #loss\n",
    "    loss = lossFn(pred, Y_train)\n",
    "\n",
    "    optimFn.zero_grad()\n",
    "\n",
    "    loss.backward()\n",
    "\n",
    "    optimFn.step()\n",
    "\n",
    "\n",
    "\n",
    "    if epoch % 100 == 0: \n",
    "        print(\"Total loss on a training set is: \" , loss.item())\n",
    "\n",
    "        model.eval()\n",
    "        with torch.inference_mode():\n",
    "            pred_test = model(X_test)\n",
    "            loss = lossFn(pred_test, Y_test)\n",
    "\n",
    "        print(\"Total loss on a test set is: \" , loss.item())\n",
    "\n",
    "\n",
    "        print(\"----------\")\n",
    "        "
   ]
  }
 ],
 "metadata": {
  "kernelspec": {
   "display_name": "Python 3 (ipykernel)",
   "language": "python",
   "name": "python3"
  },
  "language_info": {
   "codemirror_mode": {
    "name": "ipython",
    "version": 3
   },
   "file_extension": ".py",
   "mimetype": "text/x-python",
   "name": "python",
   "nbconvert_exporter": "python",
   "pygments_lexer": "ipython3",
   "version": "3.11.4"
  }
 },
 "nbformat": 4,
 "nbformat_minor": 5
}
