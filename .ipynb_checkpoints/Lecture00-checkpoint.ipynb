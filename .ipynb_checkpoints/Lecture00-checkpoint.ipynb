{
 "cells": [
  {
   "cell_type": "code",
   "execution_count": null,
   "id": "8c27c272-c27c-4b3f-8a5c-2c470868552f",
   "metadata": {},
   "outputs": [],
   "source": []
  },
  {
   "cell_type": "markdown",
   "id": "8deb548c-28c6-43b2-bae9-99df3e0396c1",
   "metadata": {},
   "source": [
    "# Introduciton to PyTorch \n"
   ]
  },
  {
   "cell_type": "markdown",
   "id": "76aec902-2d40-41d8-b6ec-376943b65a98",
   "metadata": {},
   "source": [
    "## Lecture 01"
   ]
  },
  {
   "cell_type": "markdown",
   "id": "62f88a1d-6cc8-493e-a197-29074ce582ab",
   "metadata": {},
   "source": [
    "The version of the pytorch"
   ]
  },
  {
   "cell_type": "code",
   "execution_count": 3,
   "id": "2e6fc280-bf47-4c6b-a9d1-4762145c2e68",
   "metadata": {},
   "outputs": [
    {
     "data": {
      "text/plain": [
       "'2.5.1'"
      ]
     },
     "execution_count": 3,
     "metadata": {},
     "output_type": "execute_result"
    }
   ],
   "source": [
    "import torch \n",
    "torch.__version__"
   ]
  },
  {
   "cell_type": "markdown",
   "id": "1ad4d547-d433-4716-97de-579c5116098d",
   "metadata": {},
   "source": [
    "For scalar numbers we can use "
   ]
  },
  {
   "cell_type": "code",
   "execution_count": 4,
   "id": "60202ec0-1a70-44a5-98df-69243b4ac877",
   "metadata": {},
   "outputs": [
    {
     "name": "stdout",
     "output_type": "stream",
     "text": [
      "tensor(7)\n",
      "0\n"
     ]
    }
   ],
   "source": [
    "scalar = torch.tensor(7)\n",
    "print(scalar)\n",
    "print(scalar.ndim)"
   ]
  },
  {
   "cell_type": "markdown",
   "id": "387a0cc1-5a4f-468f-bfe9-9d901335148c",
   "metadata": {},
   "source": [
    "To get just the value we can "
   ]
  },
  {
   "cell_type": "code",
   "execution_count": 6,
   "id": "709d0ee4-ec8d-4a68-bb97-95e43e2efbe2",
   "metadata": {},
   "outputs": [
    {
     "data": {
      "text/plain": [
       "7"
      ]
     },
     "execution_count": 6,
     "metadata": {},
     "output_type": "execute_result"
    }
   ],
   "source": [
    "scalar.item()"
   ]
  },
  {
   "cell_type": "markdown",
   "id": "b74a6106-1fee-4191-a61d-01f32a8e8ded",
   "metadata": {},
   "source": [
    "Also higher dimensions tensors "
   ]
  },
  {
   "cell_type": "code",
   "execution_count": 10,
   "id": "88c24bd4-c7df-45ec-bd0c-50884a313f63",
   "metadata": {},
   "outputs": [
    {
     "name": "stdout",
     "output_type": "stream",
     "text": [
      "tensor([7, 2, 3])\n",
      "2\n"
     ]
    }
   ],
   "source": [
    "vector = torch.tensor([7,2,3])\n",
    "matrix = torch.tensor([[7,2,3],[3,2,7]])\n",
    "\n",
    "print(vector)\n",
    "print(matrix.ndim)\n"
   ]
  },
  {
   "cell_type": "markdown",
   "id": "6c03e847-d2b0-468b-a880-c8537d83b031",
   "metadata": {},
   "source": [
    "Another useful property **.shape** meaning height and width of the tensor"
   ]
  },
  {
   "cell_type": "code",
   "execution_count": 11,
   "id": "d0ee8702-fe97-42fe-a43c-5db6b2b5b5ca",
   "metadata": {},
   "outputs": [
    {
     "data": {
      "text/plain": [
       "torch.Size([2, 3])"
      ]
     },
     "execution_count": 11,
     "metadata": {},
     "output_type": "execute_result"
    }
   ],
   "source": [
    "matrix.shape "
   ]
  },
  {
   "cell_type": "code",
   "execution_count": 35,
   "id": "ec58c0b4-434c-4bdb-81eb-3d7a9f4f91ae",
   "metadata": {},
   "outputs": [
    {
     "data": {
      "text/plain": [
       "tensor([[0.7245, 0.7740, 1.6579, 0.8366, 1.1836, 1.4476],\n",
       "        [0.7245, 0.7740, 1.6579, 0.8366, 1.1836, 1.4476]],\n",
       "       grad_fn=<AddmmBackward0>)"
      ]
     },
     "execution_count": 35,
     "metadata": {},
     "output_type": "execute_result"
    }
   ],
   "source": [
    "torch.manual_seed(42)\n",
    "linear = torch.nn.Linear(in_features=3, out_features=6)\n",
    "\n",
    "tensorA = torch.tensor([[1,2,3], [1,2,3]], dtype=torch.float32)\n",
    "tensorB = torch.tensor([[7,8],[9,10],[11,12]])\n",
    "\n",
    "output = linear(tensorA)\n",
    "\n",
    "output\n",
    "\n"
   ]
  },
  {
   "cell_type": "code",
   "execution_count": 68,
   "id": "5d151a5f-5c0c-4c46-94db-48b22087fb4b",
   "metadata": {},
   "outputs": [
    {
     "data": {
      "text/plain": [
       "(tensor([[ 0,  2,  4,  6,  8, 10, 12, 14, 16]]),\n",
       " tensor([[ 0,  2,  4,  6,  8, 10, 12, 14, 16]]),\n",
       " tensor([[[ 0,  0,  0,  0],\n",
       "          [ 2,  2,  2,  2],\n",
       "          [ 4,  4,  4,  4],\n",
       "          [ 6,  6,  6,  6],\n",
       "          [ 8,  8,  8,  8],\n",
       "          [10, 10, 10, 10],\n",
       "          [12, 12, 12, 12],\n",
       "          [14, 14, 14, 14],\n",
       "          [16, 16, 16, 16]]]))"
      ]
     },
     "execution_count": 68,
     "metadata": {},
     "output_type": "execute_result"
    }
   ],
   "source": [
    "x = torch.arange(0, 17 ,2)\n",
    "y = x.view(1,9)\n",
    "x = x.reshape(1,9)\n",
    "z = torch.stack([x,y,x,y], dim=2)\n",
    "x,y,z\n"
   ]
  },
  {
   "cell_type": "code",
   "execution_count": 71,
   "id": "36841901-655b-4ec1-b714-1abf370f2fd2",
   "metadata": {},
   "outputs": [
    {
     "data": {
      "text/plain": [
       "False"
      ]
     },
     "execution_count": 71,
     "metadata": {},
     "output_type": "execute_result"
    }
   ],
   "source": [
    "torch.cuda.is_available()"
   ]
  },
  {
   "cell_type": "code",
   "execution_count": 74,
   "id": "1738f143-13e0-427f-b1ad-b0865d85be03",
   "metadata": {},
   "outputs": [
    {
     "data": {
      "text/plain": [
       "'mps'"
      ]
     },
     "execution_count": 74,
     "metadata": {},
     "output_type": "execute_result"
    }
   ],
   "source": [
    "device = \"mps\" if torch.backends.mps.is_available() else \"cpu\"\n",
    "device"
   ]
  }
 ],
 "metadata": {
  "kernelspec": {
   "display_name": "Python 3 (ipykernel)",
   "language": "python",
   "name": "python3"
  },
  "language_info": {
   "codemirror_mode": {
    "name": "ipython",
    "version": 3
   },
   "file_extension": ".py",
   "mimetype": "text/x-python",
   "name": "python",
   "nbconvert_exporter": "python",
   "pygments_lexer": "ipython3",
   "version": "3.11.4"
  }
 },
 "nbformat": 4,
 "nbformat_minor": 5
}
