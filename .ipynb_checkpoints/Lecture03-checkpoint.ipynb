{
 "cells": [
  {
   "cell_type": "markdown",
   "id": "b6d24582-5319-4bf9-9633-6d4432376fb0",
   "metadata": {},
   "source": [
    "# Lecture 03"
   ]
  },
  {
   "cell_type": "code",
   "execution_count": 57,
   "id": "6a5c8ffa-7b09-47a9-9f77-33ff0666ef0f",
   "metadata": {},
   "outputs": [],
   "source": [
    "import torch \n",
    "import torchvision \n",
    "\n",
    "from torch import nn \n",
    "\n",
    "from torch.utils.data import Dataset, DataLoader\n",
    "\n",
    "from torchvision import datasets\n",
    "from torchvision.transforms import ToTensor\n",
    "\n",
    "import matplotlib.pyplot as plt \n",
    "\n",
    "import random\n"
   ]
  },
  {
   "cell_type": "markdown",
   "id": "3f4d105c-4099-4de0-ba02-032ea7a01a78",
   "metadata": {},
   "source": [
    "#### Download data"
   ]
  },
  {
   "cell_type": "code",
   "execution_count": 50,
   "id": "0ab23b60-de55-4a68-9a81-c919cdafe179",
   "metadata": {},
   "outputs": [
    {
     "name": "stdout",
     "output_type": "stream",
     "text": [
      "Downloading http://fashion-mnist.s3-website.eu-central-1.amazonaws.com/train-images-idx3-ubyte.gz\n",
      "Downloading http://fashion-mnist.s3-website.eu-central-1.amazonaws.com/train-images-idx3-ubyte.gz to Data/FashionMNIST/raw/train-images-idx3-ubyte.gz\n"
     ]
    },
    {
     "name": "stderr",
     "output_type": "stream",
     "text": [
      "100%|███████████████████████████████████████████| 26.4M/26.4M [00:00<00:00, 27.5MB/s]\n"
     ]
    },
    {
     "name": "stdout",
     "output_type": "stream",
     "text": [
      "Extracting Data/FashionMNIST/raw/train-images-idx3-ubyte.gz to Data/FashionMNIST/raw\n",
      "\n",
      "Downloading http://fashion-mnist.s3-website.eu-central-1.amazonaws.com/train-labels-idx1-ubyte.gz\n",
      "Downloading http://fashion-mnist.s3-website.eu-central-1.amazonaws.com/train-labels-idx1-ubyte.gz to Data/FashionMNIST/raw/train-labels-idx1-ubyte.gz\n"
     ]
    },
    {
     "name": "stderr",
     "output_type": "stream",
     "text": [
      "100%|████████████████████████████████████████████| 29.5k/29.5k [00:00<00:00, 866kB/s]"
     ]
    },
    {
     "name": "stdout",
     "output_type": "stream",
     "text": [
      "Extracting Data/FashionMNIST/raw/train-labels-idx1-ubyte.gz to Data/FashionMNIST/raw\n",
      "\n",
      "Downloading http://fashion-mnist.s3-website.eu-central-1.amazonaws.com/t10k-images-idx3-ubyte.gz\n"
     ]
    },
    {
     "name": "stderr",
     "output_type": "stream",
     "text": [
      "\n"
     ]
    },
    {
     "name": "stdout",
     "output_type": "stream",
     "text": [
      "Downloading http://fashion-mnist.s3-website.eu-central-1.amazonaws.com/t10k-images-idx3-ubyte.gz to Data/FashionMNIST/raw/t10k-images-idx3-ubyte.gz\n"
     ]
    },
    {
     "name": "stderr",
     "output_type": "stream",
     "text": [
      "100%|███████████████████████████████████████████| 4.42M/4.42M [00:00<00:00, 12.5MB/s]\n"
     ]
    },
    {
     "name": "stdout",
     "output_type": "stream",
     "text": [
      "Extracting Data/FashionMNIST/raw/t10k-images-idx3-ubyte.gz to Data/FashionMNIST/raw\n",
      "\n",
      "Downloading http://fashion-mnist.s3-website.eu-central-1.amazonaws.com/t10k-labels-idx1-ubyte.gz\n",
      "Downloading http://fashion-mnist.s3-website.eu-central-1.amazonaws.com/t10k-labels-idx1-ubyte.gz to Data/FashionMNIST/raw/t10k-labels-idx1-ubyte.gz\n"
     ]
    },
    {
     "name": "stderr",
     "output_type": "stream",
     "text": [
      "100%|███████████████████████████████████████████| 5.15k/5.15k [00:00<00:00, 9.06MB/s]"
     ]
    },
    {
     "name": "stdout",
     "output_type": "stream",
     "text": [
      "Extracting Data/FashionMNIST/raw/t10k-labels-idx1-ubyte.gz to Data/FashionMNIST/raw\n",
      "\n"
     ]
    },
    {
     "name": "stderr",
     "output_type": "stream",
     "text": [
      "\n"
     ]
    }
   ],
   "source": [
    "train_data = datasets.FashionMNIST(\n",
    "    root=\"Data\",\n",
    "    train=True,\n",
    "    transform=ToTensor(),\n",
    "    download=True\n",
    ")\n",
    "\n",
    "test_data = datasets.FashionMNIST(\n",
    "    root=\"Data\",\n",
    "    train=False,\n",
    "    transform=ToTensor(),\n",
    "    download=True\n",
    ")"
   ]
  },
  {
   "cell_type": "markdown",
   "id": "a6083ece-7e8a-4996-acdf-5c37ce617fd8",
   "metadata": {},
   "source": [
    "#### Inspecting the data"
   ]
  },
  {
   "cell_type": "code",
   "execution_count": 70,
   "id": "04024789-4c42-4d83-bf1c-5dfdf688340a",
   "metadata": {},
   "outputs": [
    {
     "name": "stdout",
     "output_type": "stream",
     "text": [
      "60000\n",
      "10000\n"
     ]
    },
    {
     "data": {
      "image/png": "[encoded data removed]",
      "text/plain": [
       "<Figure size 640x480 with 1 Axes>"
      ]
     },
     "metadata": {},
     "output_type": "display_data"
    }
   ],
   "source": [
    "print(len(train_data))\n",
    "print(len(test_data))\n",
    "\n",
    "image, label = train_data[random.randint(1, 60000)]\n",
    "\n",
    "plt.imshow(image.squeeze())\n",
    "plt.title(\"Label: \" + str(label))\n",
    "plt.show()"
   ]
  },
  {
   "cell_type": "markdown",
   "id": "0c3eeae1-9a2a-4e93-9f46-8cd3429dc39c",
   "metadata": {},
   "source": [
    "#### Splitting the data into batches"
   ]
  },
  {
   "cell_type": "code",
   "execution_count": 71,
   "id": "a5be2a4f-050a-4218-975b-e68fe38ac487",
   "metadata": {},
   "outputs": [],
   "source": [
    "train_data_batched = DataLoader(\n",
    "    train_data,\n",
    "    batch_size=32,\n",
    "    shuffle=True\n",
    ")\n",
    "\n",
    "test_data_batched = DataLoader(\n",
    "    test_data,\n",
    "    batch_size=32,\n",
    "    shuffle=False\n",
    ")"
   ]
  },
  {
   "cell_type": "code",
   "execution_count": 96,
   "id": "379f0005-12a6-46c1-bc3d-12c617d973f5",
   "metadata": {},
   "outputs": [],
   "source": [
    "image, label = next(iter(train_data_batched))"
   ]
  },
  {
   "cell_type": "markdown",
   "id": "2e816559-34e0-4051-813a-b8243695a2e3",
   "metadata": {},
   "source": [
    "#### Building the model "
   ]
  },
  {
   "cell_type": "code",
   "execution_count": 102,
   "id": "754b00ef-cb09-44a7-821a-a2c0fc7825e0",
   "metadata": {},
   "outputs": [],
   "source": [
    "class Model0(nn.Module):\n",
    "    def __init__(self):\n",
    "        super().__init__()\n",
    "        self.sequential = nn.Sequential(\n",
    "            nn.Flatten(),\n",
    "            nn.Linear(784, 10),\n",
    "            nn.Linear(10, 10)\n",
    "        )\n",
    "    def forward(self, x):\n",
    "        return self.sequential(x)"
   ]
  },
  {
   "cell_type": "code",
   "execution_count": 127,
   "id": "99f76668-573f-47f8-bbe5-64acc8f725ac",
   "metadata": {},
   "outputs": [],
   "source": [
    "model0 = Model0()\n",
    "lossFn = torch.nn.CrossEntropyLoss()\n",
    "optimFn = torch.optim.Adam(model0.parameters(), lr=1e-3)"
   ]
  },
  {
   "cell_type": "code",
   "execution_count": 119,
   "id": "3ecfa79a-5ef2-43ec-8620-4b4b9ea11d50",
   "metadata": {},
   "outputs": [],
   "source": [
    "model0.eval()\n",
    "preds = model0(image)\n",
    "preds_label = torch.argmax(preds, dim=1)"
   ]
  },
  {
   "cell_type": "code",
   "execution_count": 125,
   "id": "0c7f43d4-f156-49b8-91ec-54bc292c8b19",
   "metadata": {},
   "outputs": [],
   "source": [
    "def accuracy_fn(y_pred, y_true):\n",
    "    # y_pred are logits, shape (batch_size, num_classes)\n",
    "    preds = torch.argmax(y_pred, dim=1)  # take class with max logit\n",
    "    correct = (preds == y_true).sum().item()\n",
    "    acc = correct / len(y_true)\n",
    "    return acc"
   ]
  },
  {
   "cell_type": "markdown",
   "id": "bdde7d37-b4db-4b2b-90c6-9abeac9abb3a",
   "metadata": {},
   "source": [
    "#### Training the model"
   ]
  },
  {
   "cell_type": "code",
   "execution_count": 128,
   "id": "8cf8b299-2125-445b-bde5-11b21ed2ed0b",
   "metadata": {},
   "outputs": [
    {
     "name": "stdout",
     "output_type": "stream",
     "text": [
      "-----------\n",
      "Epoch:  0\n",
      "Train loss:  1.1265138387680054\n",
      "Test loss:  0.18816721439361572\n",
      "Accuracy:  0.75\n",
      "-----------\n",
      "\n",
      "-----------\n",
      "Epoch:  1\n",
      "Train loss:  1.069845199584961\n",
      "Test loss:  0.15773150324821472\n",
      "Accuracy:  0.8125\n",
      "-----------\n",
      "\n",
      "-----------\n",
      "Epoch:  2\n",
      "Train loss:  1.174040675163269\n",
      "Test loss:  0.18332454562187195\n",
      "Accuracy:  0.6875\n",
      "-----------\n",
      "\n",
      "-----------\n",
      "Epoch:  3\n",
      "Train loss:  1.0641931295394897\n",
      "Test loss:  0.19176165759563446\n",
      "Accuracy:  0.6875\n",
      "-----------\n",
      "\n",
      "-----------\n",
      "Epoch:  4\n",
      "Train loss:  1.1461193561553955\n",
      "Test loss:  0.1709693819284439\n",
      "Accuracy:  0.8125\n",
      "-----------\n",
      "\n",
      "-----------\n",
      "Epoch:  5\n",
      "Train loss:  1.2214287519454956\n",
      "Test loss:  0.4333897531032562\n",
      "Accuracy:  0.8125\n",
      "-----------\n",
      "\n",
      "-----------\n",
      "Epoch:  6\n",
      "Train loss:  1.2233576774597168\n",
      "Test loss:  0.15535062551498413\n",
      "Accuracy:  0.6875\n",
      "-----------\n",
      "\n",
      "-----------\n",
      "Epoch:  7\n",
      "Train loss:  1.0675349235534668\n",
      "Test loss:  0.1735396385192871\n",
      "Accuracy:  0.875\n",
      "-----------\n",
      "\n",
      "-----------\n",
      "Epoch:  8\n",
      "Train loss:  1.1836520433425903\n",
      "Test loss:  0.15375518798828125\n",
      "Accuracy:  0.8125\n",
      "-----------\n",
      "\n",
      "-----------\n",
      "Epoch:  9\n",
      "Train loss:  1.1818828582763672\n",
      "Test loss:  0.20422691106796265\n",
      "Accuracy:  0.875\n",
      "-----------\n",
      "\n"
     ]
    }
   ],
   "source": [
    "epochs = 10\n",
    "\n",
    "for epoch in range(epochs):\n",
    "    totalLoss = 0\n",
    "\n",
    "    for batch, (image, label) in enumerate(train_data_batched):\n",
    "        model0.train()\n",
    "\n",
    "        preds = model0(image)\n",
    "\n",
    "        optimFn.zero_grad()\n",
    "        \n",
    "        loss = lossFn(preds, label)\n",
    "        totalLoss += loss.item()\n",
    "\n",
    "        loss.backward()\n",
    "\n",
    "        optimFn.step()\n",
    "\n",
    "    totalLoss /= len(train_data_batched)\n",
    "    \n",
    "    model0.eval()\n",
    "\n",
    "    with torch.inference_mode():\n",
    "        totalLossTest = 0\n",
    "        accuracy = 0\n",
    "        for batch, (image, label) in enumerate(test_data_batched):\n",
    "            predsTest = model0(image)\n",
    "\n",
    "            loss = lossFn(predsTest, label)\n",
    "\n",
    "            acc = accuracy_fn(predsTest, label)\n",
    "            accuracy+=acc\n",
    "            totalLossTest += loss.item()\n",
    "\n",
    "        totalLossTest /= len(test_data_batched)\n",
    "        accuracy /= len(test_data_batched)\n",
    "\n",
    "    print(\"-----------\")\n",
    "    print(\"Epoch: \", epoch)\n",
    "    print(\"Train loss: \", totalLoss.item())\n",
    "    print(\"Test loss: \", totalLossTest.item())\n",
    "    \n",
    "    print(\"Accuracy: \", accuracy)\n",
    "    print(\"-----------\\n\")\n",
    "\n",
    "\n",
    "        "
   ]
  }
 ],
 "metadata": {
  "kernelspec": {
   "display_name": "Python 3 (ipykernel)",
   "language": "python",
   "name": "python3"
  },
  "language_info": {
   "codemirror_mode": {
    "name": "ipython",
    "version": 3
   },
   "file_extension": ".py",
   "mimetype": "text/x-python",
   "name": "python",
   "nbconvert_exporter": "python",
   "pygments_lexer": "ipython3",
   "version": "3.11.4"
  }
 },
 "nbformat": 4,
 "nbformat_minor": 5
}
