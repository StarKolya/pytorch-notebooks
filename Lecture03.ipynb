{
 "cells": [
  {
   "cell_type": "markdown",
   "id": "b6d24582-5319-4bf9-9633-6d4432376fb0",
   "metadata": {},
   "source": [
    "# Lecture 03"
   ]
  },
  {
   "cell_type": "code",
   "execution_count": 156,
   "id": "6a5c8ffa-7b09-47a9-9f77-33ff0666ef0f",
   "metadata": {},
   "outputs": [],
   "source": [
    "import torch \n",
    "import torchvision \n",
    "\n",
    "from torch import nn \n",
    "\n",
    "from torch.utils.data import Dataset, DataLoader\n",
    "\n",
    "from torchvision import datasets\n",
    "from torchvision.transforms import ToTensor\n",
    "\n",
    "import matplotlib.pyplot as plt \n",
    "\n",
    "import random\n"
   ]
  },
  {
   "cell_type": "markdown",
   "id": "3f4d105c-4099-4de0-ba02-032ea7a01a78",
   "metadata": {},
   "source": [
    "#### Download data"
   ]
  },
  {
   "cell_type": "code",
   "execution_count": 157,
   "id": "0ab23b60-de55-4a68-9a81-c919cdafe179",
   "metadata": {},
   "outputs": [],
   "source": [
    "train_data = datasets.FashionMNIST(\n",
    "    root=\"Data\",\n",
    "    train=True,\n",
    "    transform=ToTensor(),\n",
    "    download=True\n",
    ")\n",
    "\n",
    "test_data = datasets.FashionMNIST(\n",
    "    root=\"Data\",\n",
    "    train=False,\n",
    "    transform=ToTensor(),\n",
    "    download=True\n",
    ")"
   ]
  },
  {
   "cell_type": "markdown",
   "id": "a6083ece-7e8a-4996-acdf-5c37ce617fd8",
   "metadata": {},
   "source": [
    "#### Inspecting the data"
   ]
  },
  {
   "cell_type": "code",
   "execution_count": 166,
   "id": "04024789-4c42-4d83-bf1c-5dfdf688340a",
   "metadata": {},
   "outputs": [
    {
     "name": "stdout",
     "output_type": "stream",
     "text": [
      "60000\n",
      "10000\n"
     ]
    },
    {
     "data": {
      "image/png": "[encoded data removed]",
      "text/plain": [
       "<Figure size 640x480 with 1 Axes>"
      ]
     },
     "metadata": {},
     "output_type": "display_data"
    }
   ],
   "source": [
    "print(len(train_data))\n",
    "print(len(test_data))\n",
    "\n",
    "image, label = train_data[random.randint(1, 60000)]\n",
    "\n",
    "plt.imshow(image.squeeze(), cmap=\"grey\")\n",
    "plt.title(\"Label: \" + str(label))\n",
    "plt.show()"
   ]
  },
  {
   "cell_type": "markdown",
   "id": "0c3eeae1-9a2a-4e93-9f46-8cd3429dc39c",
   "metadata": {},
   "source": [
    "#### Splitting the data into batches"
   ]
  },
  {
   "cell_type": "code",
   "execution_count": 159,
   "id": "a5be2a4f-050a-4218-975b-e68fe38ac487",
   "metadata": {},
   "outputs": [],
   "source": [
    "train_data_batched = DataLoader(\n",
    "    train_data,\n",
    "    batch_size=32,\n",
    "    shuffle=True\n",
    ")\n",
    "\n",
    "test_data_batched = DataLoader(\n",
    "    test_data,\n",
    "    batch_size=32,\n",
    "    shuffle=False\n",
    ")"
   ]
  },
  {
   "cell_type": "code",
   "execution_count": 186,
   "id": "379f0005-12a6-46c1-bc3d-12c617d973f5",
   "metadata": {},
   "outputs": [
    {
     "data": {
      "text/plain": [
       "torch.Size([32, 1, 28, 28])"
      ]
     },
     "execution_count": 186,
     "metadata": {},
     "output_type": "execute_result"
    }
   ],
   "source": [
    "image, label = next(iter(train_data_batched))\n",
    "image.shape"
   ]
  },
  {
   "cell_type": "markdown",
   "id": "2e816559-34e0-4051-813a-b8243695a2e3",
   "metadata": {},
   "source": [
    "#### Building the model "
   ]
  },
  {
   "cell_type": "code",
   "execution_count": 161,
   "id": "754b00ef-cb09-44a7-821a-a2c0fc7825e0",
   "metadata": {},
   "outputs": [],
   "source": [
    "class Model0(nn.Module):\n",
    "    def __init__(self):\n",
    "        super().__init__()\n",
    "        self.sequential = nn.Sequential(\n",
    "            nn.Flatten(),\n",
    "            nn.Linear(784, 10),\n",
    "            nn.ReLU(),\n",
    "            nn.Linear(10, 10),\n",
    "            nn.ReLU(),\n",
    "            nn.Linear(10, 10)\n",
    "        )\n",
    "    def forward(self, x):\n",
    "        return self.sequential(x)"
   ]
  },
  {
   "cell_type": "code",
   "execution_count": 162,
   "id": "99f76668-573f-47f8-bbe5-64acc8f725ac",
   "metadata": {},
   "outputs": [],
   "source": [
    "model0 = Model0()\n",
    "lossFn = torch.nn.CrossEntropyLoss()\n",
    "optimFn = torch.optim.SGD(model0.parameters(), lr=0.01)"
   ]
  },
  {
   "cell_type": "code",
   "execution_count": 163,
   "id": "3ecfa79a-5ef2-43ec-8620-4b4b9ea11d50",
   "metadata": {},
   "outputs": [],
   "source": [
    "model0.eval()\n",
    "preds = model0(image)\n",
    "preds_label = torch.argmax(preds, dim=1)"
   ]
  },
  {
   "cell_type": "code",
   "execution_count": 164,
   "id": "0c7f43d4-f156-49b8-91ec-54bc292c8b19",
   "metadata": {},
   "outputs": [],
   "source": [
    "def accuracy_fn(y_pred, y_true):\n",
    "    # y_pred are logits, shape (batch_size, num_classes)\n",
    "    preds = torch.argmax(y_pred, dim=1)  # take class with max logit\n",
    "    correct = (preds == y_true).sum().item()\n",
    "    acc = correct / len(y_true)\n",
    "    return acc"
   ]
  },
  {
   "cell_type": "markdown",
   "id": "bdde7d37-b4db-4b2b-90c6-9abeac9abb3a",
   "metadata": {},
   "source": [
    "#### Training the model"
   ]
  },
  {
   "cell_type": "code",
   "execution_count": 153,
   "id": "8cf8b299-2125-445b-bde5-11b21ed2ed0b",
   "metadata": {},
   "outputs": [
    {
     "name": "stdout",
     "output_type": "stream",
     "text": [
      "-----------\n",
      "Epoch:  0\n",
      "Train loss:  0.36\n",
      "Test loss:  0.44\n",
      "Accuracy:  0.84\n",
      "-----------\n",
      "\n",
      "-----------\n",
      "Epoch:  1\n",
      "Train loss:  0.36\n",
      "Test loss:  0.43\n",
      "Accuracy:  0.85\n",
      "-----------\n",
      "\n",
      "-----------\n",
      "Epoch:  2\n",
      "Train loss:  0.36\n",
      "Test loss:  0.43\n",
      "Accuracy:  0.84\n",
      "-----------\n",
      "\n",
      "-----------\n",
      "Epoch:  3\n",
      "Train loss:  0.36\n",
      "Test loss:  0.43\n",
      "Accuracy:  0.85\n",
      "-----------\n",
      "\n",
      "-----------\n",
      "Epoch:  4\n",
      "Train loss:  0.36\n",
      "Test loss:  0.43\n",
      "Accuracy:  0.85\n",
      "-----------\n",
      "\n",
      "-----------\n",
      "Epoch:  5\n",
      "Train loss:  0.36\n",
      "Test loss:  0.43\n",
      "Accuracy:  0.85\n",
      "-----------\n",
      "\n",
      "-----------\n",
      "Epoch:  6\n",
      "Train loss:  0.36\n",
      "Test loss:  0.43\n",
      "Accuracy:  0.85\n",
      "-----------\n",
      "\n",
      "-----------\n",
      "Epoch:  7\n",
      "Train loss:  0.36\n",
      "Test loss:  0.42\n",
      "Accuracy:  0.85\n",
      "-----------\n",
      "\n",
      "-----------\n",
      "Epoch:  8\n",
      "Train loss:  0.35\n",
      "Test loss:  0.43\n",
      "Accuracy:  0.85\n",
      "-----------\n",
      "\n",
      "-----------\n",
      "Epoch:  9\n",
      "Train loss:  0.35\n",
      "Test loss:  0.43\n",
      "Accuracy:  0.85\n",
      "-----------\n",
      "\n"
     ]
    }
   ],
   "source": [
    "epochs = 10\n",
    "\n",
    "for epoch in range(epochs):\n",
    "    totalLoss = 0\n",
    "    model0.train()\n",
    "    for batch, (image, label) in enumerate(train_data_batched):\n",
    "\n",
    "        preds = model0(image)\n",
    "\n",
    "        optimFn.zero_grad()\n",
    "        \n",
    "        loss = lossFn(preds, label)\n",
    "        totalLoss += loss.item()\n",
    "\n",
    "        loss.backward()\n",
    "\n",
    "        optimFn.step()\n",
    "\n",
    "    totalLoss /= len(train_data_batched)\n",
    "    \n",
    "    model0.eval()\n",
    "\n",
    "    with torch.inference_mode():\n",
    "        totalLossTest = 0\n",
    "        accuracy = 0\n",
    "        for batch, (image, label) in enumerate(test_data_batched):\n",
    "            predsTest = model0(image)\n",
    "\n",
    "            loss = lossFn(predsTest, label)\n",
    "\n",
    "            acc = accuracy_fn(predsTest, label)\n",
    "            accuracy+=acc\n",
    "            totalLossTest += loss.item()\n",
    "\n",
    "        totalLossTest /= len(test_data_batched)\n",
    "        accuracy /= len(test_data_batched)\n",
    "\n",
    "    print(\"-----------\")\n",
    "    print(\"Epoch: \", epoch)\n",
    "    print(\"Train loss: \", round(totalLoss,2))\n",
    "    print(\"Test loss: \", round(totalLossTest,2))\n",
    "    \n",
    "    print(\"Accuracy: \", round(accuracy,2))\n",
    "    print(\"-----------\\n\")\n",
    "\n",
    "\n",
    "        "
   ]
  },
  {
   "cell_type": "markdown",
   "id": "98a6c93e-51cd-4df6-b240-1ab90c4fe20f",
   "metadata": {},
   "source": [
    "https://poloclub.github.io/cnn-explainer/ -- Very usefull "
   ]
  },
  {
   "cell_type": "markdown",
   "id": "07ed432c-bfdc-4ddd-aff1-eab9a54e7492",
   "metadata": {},
   "source": [
    "#### Building CNN Model for the same set"
   ]
  },
  {
   "cell_type": "code",
   "execution_count": 188,
   "id": "91e76693-a686-4814-a9a8-a98169e857cf",
   "metadata": {},
   "outputs": [],
   "source": [
    "class CNNModel(nn.Module):\n",
    "    def __init__(self):\n",
    "        super().__init__()\n",
    "        self.block1 = nn.Sequential(\n",
    "            nn.Conv2d(1,10,2),\n",
    "            nn.ReLU()\n",
    "        )\n",
    "\n",
    "        self.block2 = nn.Sequential(\n",
    "            nn.Conv2d(10,10,2),\n",
    "            nn.ReLU(),\n",
    "            nn.MaxPool2d(2,1)\n",
    "        )\n",
    "\n",
    "        self.block3 = nn.Sequential(\n",
    "            nn.Conv2d(10,10,2),\n",
    "            nn.ReLU()\n",
    "        )\n",
    "\n",
    "        self.block4 = nn.Sequential(\n",
    "            nn.Conv2d(10,10,2),\n",
    "            nn.ReLU(),\n",
    "            nn.MaxPool2d(2,1)\n",
    "        )\n",
    "\n",
    "        self.classifier = nn.Sequential(\n",
    "            nn.Flatten(),\n",
    "            nn.Linear(4840,10)\n",
    "        )\n",
    "\n",
    "    def forward(self,x):\n",
    "        x = self.block1(x)\n",
    "        x = self.block2(x)\n",
    "        x = self.block3(x)\n",
    "        x = self.block4(x)\n",
    "        x = self.classifier(x)\n",
    "      \n",
    "        return x"
   ]
  },
  {
   "cell_type": "markdown",
   "id": "b1ccb974-e591-420d-9387-84b8619d9f63",
   "metadata": {},
   "source": [
    "#### Define the model"
   ]
  },
  {
   "cell_type": "code",
   "execution_count": 189,
   "id": "346fb8d2-fdf2-4cbe-9427-7d47d6771e96",
   "metadata": {},
   "outputs": [],
   "source": [
    "CNNmodel = CNNModel()\n",
    "lossFn = torch.nn.CrossEntropyLoss()\n",
    "optimFn = torch.optim.SGD(CNNmodel.parameters(), lr=0.01)"
   ]
  },
  {
   "cell_type": "code",
   "execution_count": 192,
   "id": "3d9f3d82-ea96-452c-9307-33ccb274d207",
   "metadata": {},
   "outputs": [
    {
     "name": "stdout",
     "output_type": "stream",
     "text": [
      "tensor([6, 6, 6, 6, 6, 6, 6, 6, 6, 6, 6, 6, 6, 6, 6, 6, 6, 6, 6, 6, 6, 6, 6, 6,\n",
      "        6, 6, 6, 6, 6, 6, 6, 6])\n"
     ]
    }
   ],
   "source": [
    "CNNmodel.eval()\n",
    "\n",
    "preds = CNNmodel(image)\n",
    "\n",
    "print(torch.argmax(preds, dim=1))"
   ]
  },
  {
   "cell_type": "code",
   "execution_count": 195,
   "id": "0f973749-ce66-40cc-b78e-8ee6b8a1812f",
   "metadata": {},
   "outputs": [
    {
     "name": "stdout",
     "output_type": "stream",
     "text": [
      "-----------\n",
      "Epoch:  0\n",
      "Train loss:  0.29\n",
      "Test loss:  0.32\n",
      "Accuracy:  0.89\n",
      "-----------\n",
      "\n",
      "-----------\n",
      "Epoch:  1\n",
      "Train loss:  0.28\n",
      "Test loss:  0.31\n",
      "Accuracy:  0.89\n",
      "-----------\n",
      "\n"
     ]
    }
   ],
   "source": [
    "epochs = 2\n",
    "\n",
    "for epoch in range(epochs):\n",
    "    totalLoss = 0\n",
    "    CNNmodel.train()\n",
    "    for batch, (image, label) in enumerate(train_data_batched):\n",
    "\n",
    "        preds = CNNmodel(image)\n",
    "\n",
    "        optimFn.zero_grad()\n",
    "        \n",
    "        loss = lossFn(preds, label)\n",
    "        totalLoss += loss.item()\n",
    "\n",
    "        loss.backward()\n",
    "\n",
    "        optimFn.step()\n",
    "\n",
    "    totalLoss /= len(train_data_batched)\n",
    "    \n",
    "    CNNmodel.eval()\n",
    "\n",
    "    with torch.inference_mode():\n",
    "        totalLossTest = 0\n",
    "        accuracy = 0\n",
    "        for batch, (image, label) in enumerate(test_data_batched):\n",
    "            predsTest = CNNmodel(image)\n",
    "\n",
    "            loss = lossFn(predsTest, label)\n",
    "\n",
    "            acc = accuracy_fn(predsTest, label)\n",
    "            accuracy+=acc\n",
    "            totalLossTest += loss.item()\n",
    "\n",
    "        totalLossTest /= len(test_data_batched)\n",
    "        accuracy /= len(test_data_batched)\n",
    "\n",
    "    print(\"-----------\")\n",
    "    print(\"Epoch: \", epoch)\n",
    "    print(\"Train loss: \", round(totalLoss,2))\n",
    "    print(\"Test loss: \", round(totalLossTest,2))\n",
    "    \n",
    "    print(\"Accuracy: \", round(accuracy,2))\n",
    "    print(\"-----------\\n\")\n",
    "\n"
   ]
  }
 ],
 "metadata": {
  "kernelspec": {
   "display_name": "Python 3 (ipykernel)",
   "language": "python",
   "name": "python3"
  },
  "language_info": {
   "codemirror_mode": {
    "name": "ipython",
    "version": 3
   },
   "file_extension": ".py",
   "mimetype": "text/x-python",
   "name": "python",
   "nbconvert_exporter": "python",
   "pygments_lexer": "ipython3",
   "version": "3.11.4"
  }
 },
 "nbformat": 4,
 "nbformat_minor": 5
}
